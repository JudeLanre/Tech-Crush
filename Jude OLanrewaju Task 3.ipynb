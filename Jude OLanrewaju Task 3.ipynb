{
 "cells": [
  {
   "cell_type": "markdown",
   "id": "317ac0aa",
   "metadata": {},
   "source": [
    "# Exploratory Data Analysis of A Year's Pizza Sales\n",
    "This project analyses a year's worth of sales from anonymised pizza place, including the date and time of each order and the pizzas served, with additional details on the type, size, quantity, price, and ingredients."
   ]
  },
  {
   "cell_type": "code",
   "execution_count": 1,
   "id": "78dd3587",
   "metadata": {},
   "outputs": [],
   "source": [
    "# import packages\n",
    "import pandas as pd\n",
    "import matplotlib.pyplot as plt\n",
    "import warnings\n",
    "warnings.filterwarnings('ignore')"
   ]
  },
  {
   "cell_type": "code",
   "execution_count": 2,
   "id": "a2b48dfd",
   "metadata": {},
   "outputs": [],
   "source": [
    "# create dataframes from csv files\n",
    "\n",
    "orders_df = pd.read_csv(\"orders.csv\")\n",
    "order_details_df = pd.read_csv(\"order_details.csv\")\n",
    "pizza_types_df = pd.read_csv(\"pizza_types.csv\", encoding ='latin1')\n",
    "pizzas_df = pd.read_csv(\"pizzas.csv\")"
   ]
  },
  {
   "cell_type": "markdown",
   "id": "c35815c9",
   "metadata": {},
   "source": [
    "## Ensure data is clean "
   ]
  },
  {
   "cell_type": "markdown",
   "id": "8e11e645",
   "metadata": {},
   "source": [
    "### Check orders_df for na and invalid values"
   ]
  },
  {
   "cell_type": "code",
   "execution_count": 3,
   "id": "0a59136c",
   "metadata": {},
   "outputs": [
    {
     "name": "stdout",
     "output_type": "stream",
     "text": [
      "<class 'pandas.core.frame.DataFrame'>\n",
      "RangeIndex: 21350 entries, 0 to 21349\n",
      "Data columns (total 3 columns):\n",
      " #   Column    Non-Null Count  Dtype \n",
      "---  ------    --------------  ----- \n",
      " 0   order_id  21350 non-null  int64 \n",
      " 1   date      21350 non-null  object\n",
      " 2   time      21350 non-null  object\n",
      "dtypes: int64(1), object(2)\n",
      "memory usage: 500.5+ KB\n"
     ]
    }
   ],
   "source": [
    "\n",
    "orders_df.info()"
   ]
  },
  {
   "cell_type": "code",
   "execution_count": 4,
   "id": "0c74efe3",
   "metadata": {},
   "outputs": [],
   "source": [
    "orders_df['date'] = pd.to_datetime(orders_df['date'])\n",
    "orders_df['hour'] = pd.to_datetime(orders_df['time']).dt.hour\n",
    "orders_df['day'] = pd.to_datetime(orders_df['date'], format='%Y-%M-%D').dt.day_name()\n",
    "orders_df['month'] = pd.to_datetime(orders_df['date'], format='%Y-%M-%D').dt.month_name()\n",
    "orders_df['month_num'] = pd.to_datetime(orders_df['date'], format='%Y-%M-%D').dt.month"
   ]
  },
  {
   "cell_type": "code",
   "execution_count": 5,
   "id": "0048315a",
   "metadata": {},
   "outputs": [
    {
     "data": {
      "text/html": [
       "<div>\n",
       "<style scoped>\n",
       "    .dataframe tbody tr th:only-of-type {\n",
       "        vertical-align: middle;\n",
       "    }\n",
       "\n",
       "    .dataframe tbody tr th {\n",
       "        vertical-align: top;\n",
       "    }\n",
       "\n",
       "    .dataframe thead th {\n",
       "        text-align: right;\n",
       "    }\n",
       "</style>\n",
       "<table border=\"1\" class=\"dataframe\">\n",
       "  <thead>\n",
       "    <tr style=\"text-align: right;\">\n",
       "      <th></th>\n",
       "      <th>order_id</th>\n",
       "      <th>date</th>\n",
       "      <th>time</th>\n",
       "      <th>hour</th>\n",
       "      <th>day</th>\n",
       "      <th>month</th>\n",
       "      <th>month_num</th>\n",
       "    </tr>\n",
       "  </thead>\n",
       "  <tbody>\n",
       "    <tr>\n",
       "      <th>0</th>\n",
       "      <td>1</td>\n",
       "      <td>2015-01-01</td>\n",
       "      <td>11:38:36</td>\n",
       "      <td>11</td>\n",
       "      <td>Thursday</td>\n",
       "      <td>January</td>\n",
       "      <td>1</td>\n",
       "    </tr>\n",
       "    <tr>\n",
       "      <th>1</th>\n",
       "      <td>2</td>\n",
       "      <td>2015-01-01</td>\n",
       "      <td>11:57:40</td>\n",
       "      <td>11</td>\n",
       "      <td>Thursday</td>\n",
       "      <td>January</td>\n",
       "      <td>1</td>\n",
       "    </tr>\n",
       "    <tr>\n",
       "      <th>2</th>\n",
       "      <td>3</td>\n",
       "      <td>2015-01-01</td>\n",
       "      <td>12:12:28</td>\n",
       "      <td>12</td>\n",
       "      <td>Thursday</td>\n",
       "      <td>January</td>\n",
       "      <td>1</td>\n",
       "    </tr>\n",
       "    <tr>\n",
       "      <th>3</th>\n",
       "      <td>4</td>\n",
       "      <td>2015-01-01</td>\n",
       "      <td>12:16:31</td>\n",
       "      <td>12</td>\n",
       "      <td>Thursday</td>\n",
       "      <td>January</td>\n",
       "      <td>1</td>\n",
       "    </tr>\n",
       "    <tr>\n",
       "      <th>4</th>\n",
       "      <td>5</td>\n",
       "      <td>2015-01-01</td>\n",
       "      <td>12:21:30</td>\n",
       "      <td>12</td>\n",
       "      <td>Thursday</td>\n",
       "      <td>January</td>\n",
       "      <td>1</td>\n",
       "    </tr>\n",
       "  </tbody>\n",
       "</table>\n",
       "</div>"
      ],
      "text/plain": [
       "   order_id       date      time  hour       day    month  month_num\n",
       "0         1 2015-01-01  11:38:36    11  Thursday  January          1\n",
       "1         2 2015-01-01  11:57:40    11  Thursday  January          1\n",
       "2         3 2015-01-01  12:12:28    12  Thursday  January          1\n",
       "3         4 2015-01-01  12:16:31    12  Thursday  January          1\n",
       "4         5 2015-01-01  12:21:30    12  Thursday  January          1"
      ]
     },
     "execution_count": 5,
     "metadata": {},
     "output_type": "execute_result"
    }
   ],
   "source": [
    "orders_df.head()"
   ]
  },
  {
   "cell_type": "code",
   "execution_count": 6,
   "id": "a458948f",
   "metadata": {},
   "outputs": [
    {
     "data": {
      "text/plain": [
       "date\n",
       "2015-11-27    115\n",
       "2015-11-26    113\n",
       "2015-10-15    107\n",
       "2015-07-04    105\n",
       "2015-05-15     94\n",
       "             ... \n",
       "2015-03-22     37\n",
       "2015-02-22     37\n",
       "2015-12-27     35\n",
       "2015-12-30     32\n",
       "2015-12-29     27\n",
       "Name: count, Length: 358, dtype: int64"
      ]
     },
     "execution_count": 6,
     "metadata": {},
     "output_type": "execute_result"
    }
   ],
   "source": [
    "orders_df['date'].value_counts()"
   ]
  },
  {
   "cell_type": "code",
   "execution_count": 7,
   "id": "d24768a0",
   "metadata": {},
   "outputs": [
    {
     "data": {
      "text/plain": [
       "time\n",
       "18:49:37    6\n",
       "18:49:15    5\n",
       "13:05:06    5\n",
       "20:05:12    5\n",
       "17:50:15    5\n",
       "           ..\n",
       "12:11:39    1\n",
       "16:52:12    1\n",
       "15:29:05    1\n",
       "12:31:54    1\n",
       "22:09:54    1\n",
       "Name: count, Length: 16382, dtype: int64"
      ]
     },
     "execution_count": 7,
     "metadata": {},
     "output_type": "execute_result"
    }
   ],
   "source": [
    "orders_df['time'].value_counts()"
   ]
  },
  {
   "cell_type": "markdown",
   "id": "5bc89e33",
   "metadata": {},
   "source": [
    "### Check order_details_df for null and invalid values"
   ]
  },
  {
   "cell_type": "code",
   "execution_count": 8,
   "id": "8e6dff51",
   "metadata": {},
   "outputs": [
    {
     "name": "stdout",
     "output_type": "stream",
     "text": [
      "<class 'pandas.core.frame.DataFrame'>\n",
      "RangeIndex: 48620 entries, 0 to 48619\n",
      "Data columns (total 4 columns):\n",
      " #   Column            Non-Null Count  Dtype \n",
      "---  ------            --------------  ----- \n",
      " 0   order_details_id  48620 non-null  int64 \n",
      " 1   order_id          48620 non-null  int64 \n",
      " 2   pizza_id          48620 non-null  object\n",
      " 3   quantity          48620 non-null  int64 \n",
      "dtypes: int64(3), object(1)\n",
      "memory usage: 1.5+ MB\n"
     ]
    }
   ],
   "source": [
    "order_details_df.info()"
   ]
  },
  {
   "cell_type": "code",
   "execution_count": 9,
   "id": "aa2ab293",
   "metadata": {},
   "outputs": [
    {
     "data": {
      "text/plain": [
       "order_details_id\n",
       "1        1\n",
       "32418    1\n",
       "32409    1\n",
       "32410    1\n",
       "32411    1\n",
       "        ..\n",
       "16209    1\n",
       "16210    1\n",
       "16211    1\n",
       "16212    1\n",
       "48620    1\n",
       "Name: count, Length: 48620, dtype: int64"
      ]
     },
     "execution_count": 9,
     "metadata": {},
     "output_type": "execute_result"
    }
   ],
   "source": [
    "order_details_df['order_details_id'].value_counts()"
   ]
  },
  {
   "cell_type": "code",
   "execution_count": 10,
   "id": "fa09d458",
   "metadata": {},
   "outputs": [
    {
     "data": {
      "text/plain": [
       "order_id\n",
       "18845    21\n",
       "10760    21\n",
       "18280    15\n",
       "21158    15\n",
       "17464    15\n",
       "         ..\n",
       "10351     1\n",
       "10355     1\n",
       "10357     1\n",
       "10360     1\n",
       "21350     1\n",
       "Name: count, Length: 21350, dtype: int64"
      ]
     },
     "execution_count": 10,
     "metadata": {},
     "output_type": "execute_result"
    }
   ],
   "source": [
    "order_details_df['order_id'].value_counts()"
   ]
  },
  {
   "cell_type": "code",
   "execution_count": 11,
   "id": "a17c7513",
   "metadata": {},
   "outputs": [
    {
     "data": {
      "text/plain": [
       "pizza_id\n",
       "big_meat_s        1811\n",
       "thai_ckn_l        1365\n",
       "five_cheese_l     1359\n",
       "four_cheese_l     1273\n",
       "classic_dlx_m     1159\n",
       "                  ... \n",
       "mexicana_s         160\n",
       "calabrese_s         99\n",
       "ckn_alfredo_s       96\n",
       "green_garden_l      94\n",
       "the_greek_xxl       28\n",
       "Name: count, Length: 91, dtype: int64"
      ]
     },
     "execution_count": 11,
     "metadata": {},
     "output_type": "execute_result"
    }
   ],
   "source": [
    "order_details_df['pizza_id'].value_counts()"
   ]
  },
  {
   "cell_type": "code",
   "execution_count": 12,
   "id": "ba6498ed",
   "metadata": {},
   "outputs": [
    {
     "data": {
      "text/plain": [
       "quantity\n",
       "1    47693\n",
       "2      903\n",
       "3       21\n",
       "4        3\n",
       "Name: count, dtype: int64"
      ]
     },
     "execution_count": 12,
     "metadata": {},
     "output_type": "execute_result"
    }
   ],
   "source": [
    "order_details_df['quantity'].value_counts()\n"
   ]
  },
  {
   "cell_type": "markdown",
   "id": "4bb303dd",
   "metadata": {},
   "source": [
    "### Check pizza_df for null and invalid data"
   ]
  },
  {
   "cell_type": "code",
   "execution_count": 13,
   "id": "cc4a4fd1",
   "metadata": {},
   "outputs": [
    {
     "name": "stdout",
     "output_type": "stream",
     "text": [
      "<class 'pandas.core.frame.DataFrame'>\n",
      "RangeIndex: 96 entries, 0 to 95\n",
      "Data columns (total 4 columns):\n",
      " #   Column         Non-Null Count  Dtype  \n",
      "---  ------         --------------  -----  \n",
      " 0   pizza_id       96 non-null     object \n",
      " 1   pizza_type_id  96 non-null     object \n",
      " 2   size           96 non-null     object \n",
      " 3   price          96 non-null     float64\n",
      "dtypes: float64(1), object(3)\n",
      "memory usage: 3.1+ KB\n"
     ]
    }
   ],
   "source": [
    "\n",
    "pizzas_df.info()"
   ]
  },
  {
   "cell_type": "code",
   "execution_count": 14,
   "id": "6a0fb5c7",
   "metadata": {},
   "outputs": [
    {
     "data": {
      "text/plain": [
       "pizza_id\n",
       "bbq_ckn_s         1\n",
       "bbq_ckn_m         1\n",
       "five_cheese_m     1\n",
       "five_cheese_s     1\n",
       "spinach_supr_l    1\n",
       "                 ..\n",
       "ital_cpcllo_l     1\n",
       "ital_cpcllo_m     1\n",
       "ital_cpcllo_s     1\n",
       "hawaiian_l        1\n",
       "veggie_veg_l      1\n",
       "Name: count, Length: 96, dtype: int64"
      ]
     },
     "execution_count": 14,
     "metadata": {},
     "output_type": "execute_result"
    }
   ],
   "source": [
    "pizzas_df['pizza_id'].value_counts()"
   ]
  },
  {
   "cell_type": "code",
   "execution_count": 15,
   "id": "78f0db3b",
   "metadata": {},
   "outputs": [
    {
     "data": {
      "text/plain": [
       "pizza_type_id\n",
       "the_greek       5\n",
       "bbq_ckn         3\n",
       "peppr_salami    3\n",
       "spinach_fet     3\n",
       "spin_pesto      3\n",
       "mexicana        3\n",
       "mediterraneo    3\n",
       "ital_veggie     3\n",
       "green_garden    3\n",
       "four_cheese     3\n",
       "five_cheese     3\n",
       "spinach_supr    3\n",
       "spicy_ital      3\n",
       "soppressata     3\n",
       "sicilian        3\n",
       "prsc_argla      3\n",
       "ital_supr       3\n",
       "cali_ckn        3\n",
       "calabrese       3\n",
       "pepperoni       3\n",
       "pep_msh_pep     3\n",
       "napolitana      3\n",
       "ital_cpcllo     3\n",
       "hawaiian        3\n",
       "classic_dlx     3\n",
       "big_meat        3\n",
       "thai_ckn        3\n",
       "southw_ckn      3\n",
       "ckn_pesto       3\n",
       "ckn_alfredo     3\n",
       "veggie_veg      3\n",
       "brie_carre      1\n",
       "Name: count, dtype: int64"
      ]
     },
     "execution_count": 15,
     "metadata": {},
     "output_type": "execute_result"
    }
   ],
   "source": [
    "pizzas_df['pizza_type_id'].value_counts()\n"
   ]
  },
  {
   "cell_type": "code",
   "execution_count": 16,
   "id": "560ec4a2",
   "metadata": {},
   "outputs": [
    {
     "data": {
      "text/plain": [
       "size\n",
       "S      32\n",
       "M      31\n",
       "L      31\n",
       "XL      1\n",
       "XXL     1\n",
       "Name: count, dtype: int64"
      ]
     },
     "execution_count": 16,
     "metadata": {},
     "output_type": "execute_result"
    }
   ],
   "source": [
    "pizzas_df['size'].value_counts()\n"
   ]
  },
  {
   "cell_type": "code",
   "execution_count": 17,
   "id": "cdc549fa",
   "metadata": {},
   "outputs": [
    {
     "data": {
      "text/plain": [
       "price\n",
       "20.75    13\n",
       "12.00    10\n",
       "16.00    10\n",
       "12.50     9\n",
       "16.50     8\n",
       "20.25     7\n",
       "16.75     7\n",
       "12.75     7\n",
       "20.50     5\n",
       "12.25     2\n",
       "16.25     2\n",
       "13.25     1\n",
       "17.95     1\n",
       "14.75     1\n",
       "11.75     1\n",
       "18.50     1\n",
       "15.50     1\n",
       "23.65     1\n",
       "11.00     1\n",
       "35.95     1\n",
       "25.50     1\n",
       "15.25     1\n",
       "10.50     1\n",
       "9.75      1\n",
       "17.50     1\n",
       "14.50     1\n",
       "21.00     1\n",
       "Name: count, dtype: int64"
      ]
     },
     "execution_count": 17,
     "metadata": {},
     "output_type": "execute_result"
    }
   ],
   "source": [
    "pizzas_df['price'].value_counts()"
   ]
  },
  {
   "cell_type": "markdown",
   "id": "a54cd1b9",
   "metadata": {},
   "source": [
    "### Check pizza_types_df for null and invalid values"
   ]
  },
  {
   "cell_type": "code",
   "execution_count": 18,
   "id": "a21f0a64",
   "metadata": {},
   "outputs": [
    {
     "name": "stdout",
     "output_type": "stream",
     "text": [
      "<class 'pandas.core.frame.DataFrame'>\n",
      "RangeIndex: 32 entries, 0 to 31\n",
      "Data columns (total 4 columns):\n",
      " #   Column         Non-Null Count  Dtype \n",
      "---  ------         --------------  ----- \n",
      " 0   pizza_type_id  32 non-null     object\n",
      " 1   name           32 non-null     object\n",
      " 2   category       32 non-null     object\n",
      " 3   ingredients    32 non-null     object\n",
      "dtypes: object(4)\n",
      "memory usage: 1.1+ KB\n"
     ]
    }
   ],
   "source": [
    "pizza_types_df.info()"
   ]
  },
  {
   "cell_type": "markdown",
   "id": "8b774227",
   "metadata": {},
   "source": [
    "## Merge dataframes\n"
   ]
  },
  {
   "cell_type": "code",
   "execution_count": 19,
   "id": "0f6f3d8d",
   "metadata": {},
   "outputs": [],
   "source": [
    "orders_and_details =pd.merge(orders_df, order_details_df, on ='order_id', how ='left')\n",
    "orders_to_pizza = pd.merge(orders_and_details, pizzas_df, on = 'pizza_id', how ='left')\n",
    "master_df = pd.merge(orders_to_pizza, pizza_types_df, on = 'pizza_type_id', how ='left')"
   ]
  },
  {
   "cell_type": "code",
   "execution_count": 20,
   "id": "4a48cdc0",
   "metadata": {},
   "outputs": [
    {
     "data": {
      "text/html": [
       "<div>\n",
       "<style scoped>\n",
       "    .dataframe tbody tr th:only-of-type {\n",
       "        vertical-align: middle;\n",
       "    }\n",
       "\n",
       "    .dataframe tbody tr th {\n",
       "        vertical-align: top;\n",
       "    }\n",
       "\n",
       "    .dataframe thead th {\n",
       "        text-align: right;\n",
       "    }\n",
       "</style>\n",
       "<table border=\"1\" class=\"dataframe\">\n",
       "  <thead>\n",
       "    <tr style=\"text-align: right;\">\n",
       "      <th></th>\n",
       "      <th>order_id</th>\n",
       "      <th>date</th>\n",
       "      <th>time</th>\n",
       "      <th>hour</th>\n",
       "      <th>day</th>\n",
       "      <th>month</th>\n",
       "      <th>month_num</th>\n",
       "      <th>order_details_id</th>\n",
       "      <th>pizza_id</th>\n",
       "      <th>quantity</th>\n",
       "      <th>pizza_type_id</th>\n",
       "      <th>size</th>\n",
       "      <th>price</th>\n",
       "      <th>name</th>\n",
       "      <th>category</th>\n",
       "      <th>ingredients</th>\n",
       "    </tr>\n",
       "  </thead>\n",
       "  <tbody>\n",
       "    <tr>\n",
       "      <th>0</th>\n",
       "      <td>1</td>\n",
       "      <td>2015-01-01</td>\n",
       "      <td>11:38:36</td>\n",
       "      <td>11</td>\n",
       "      <td>Thursday</td>\n",
       "      <td>January</td>\n",
       "      <td>1</td>\n",
       "      <td>1</td>\n",
       "      <td>hawaiian_m</td>\n",
       "      <td>1</td>\n",
       "      <td>hawaiian</td>\n",
       "      <td>M</td>\n",
       "      <td>13.25</td>\n",
       "      <td>The Hawaiian Pizza</td>\n",
       "      <td>Classic</td>\n",
       "      <td>Sliced Ham, Pineapple, Mozzarella Cheese</td>\n",
       "    </tr>\n",
       "    <tr>\n",
       "      <th>1</th>\n",
       "      <td>2</td>\n",
       "      <td>2015-01-01</td>\n",
       "      <td>11:57:40</td>\n",
       "      <td>11</td>\n",
       "      <td>Thursday</td>\n",
       "      <td>January</td>\n",
       "      <td>1</td>\n",
       "      <td>2</td>\n",
       "      <td>classic_dlx_m</td>\n",
       "      <td>1</td>\n",
       "      <td>classic_dlx</td>\n",
       "      <td>M</td>\n",
       "      <td>16.00</td>\n",
       "      <td>The Classic Deluxe Pizza</td>\n",
       "      <td>Classic</td>\n",
       "      <td>Pepperoni, Mushrooms, Red Onions, Red Peppers,...</td>\n",
       "    </tr>\n",
       "    <tr>\n",
       "      <th>2</th>\n",
       "      <td>2</td>\n",
       "      <td>2015-01-01</td>\n",
       "      <td>11:57:40</td>\n",
       "      <td>11</td>\n",
       "      <td>Thursday</td>\n",
       "      <td>January</td>\n",
       "      <td>1</td>\n",
       "      <td>3</td>\n",
       "      <td>five_cheese_l</td>\n",
       "      <td>1</td>\n",
       "      <td>five_cheese</td>\n",
       "      <td>L</td>\n",
       "      <td>18.50</td>\n",
       "      <td>The Five Cheese Pizza</td>\n",
       "      <td>Veggie</td>\n",
       "      <td>Mozzarella Cheese, Provolone Cheese, Smoked Go...</td>\n",
       "    </tr>\n",
       "    <tr>\n",
       "      <th>3</th>\n",
       "      <td>2</td>\n",
       "      <td>2015-01-01</td>\n",
       "      <td>11:57:40</td>\n",
       "      <td>11</td>\n",
       "      <td>Thursday</td>\n",
       "      <td>January</td>\n",
       "      <td>1</td>\n",
       "      <td>4</td>\n",
       "      <td>ital_supr_l</td>\n",
       "      <td>1</td>\n",
       "      <td>ital_supr</td>\n",
       "      <td>L</td>\n",
       "      <td>20.75</td>\n",
       "      <td>The Italian Supreme Pizza</td>\n",
       "      <td>Supreme</td>\n",
       "      <td>Calabrese Salami, Capocollo, Tomatoes, Red Oni...</td>\n",
       "    </tr>\n",
       "    <tr>\n",
       "      <th>4</th>\n",
       "      <td>2</td>\n",
       "      <td>2015-01-01</td>\n",
       "      <td>11:57:40</td>\n",
       "      <td>11</td>\n",
       "      <td>Thursday</td>\n",
       "      <td>January</td>\n",
       "      <td>1</td>\n",
       "      <td>5</td>\n",
       "      <td>mexicana_m</td>\n",
       "      <td>1</td>\n",
       "      <td>mexicana</td>\n",
       "      <td>M</td>\n",
       "      <td>16.00</td>\n",
       "      <td>The Mexicana Pizza</td>\n",
       "      <td>Veggie</td>\n",
       "      <td>Tomatoes, Red Peppers, Jalapeno Peppers, Red O...</td>\n",
       "    </tr>\n",
       "    <tr>\n",
       "      <th>...</th>\n",
       "      <td>...</td>\n",
       "      <td>...</td>\n",
       "      <td>...</td>\n",
       "      <td>...</td>\n",
       "      <td>...</td>\n",
       "      <td>...</td>\n",
       "      <td>...</td>\n",
       "      <td>...</td>\n",
       "      <td>...</td>\n",
       "      <td>...</td>\n",
       "      <td>...</td>\n",
       "      <td>...</td>\n",
       "      <td>...</td>\n",
       "      <td>...</td>\n",
       "      <td>...</td>\n",
       "      <td>...</td>\n",
       "    </tr>\n",
       "    <tr>\n",
       "      <th>48615</th>\n",
       "      <td>21348</td>\n",
       "      <td>2015-12-31</td>\n",
       "      <td>21:23:10</td>\n",
       "      <td>21</td>\n",
       "      <td>Thursday</td>\n",
       "      <td>December</td>\n",
       "      <td>12</td>\n",
       "      <td>48616</td>\n",
       "      <td>ckn_alfredo_m</td>\n",
       "      <td>1</td>\n",
       "      <td>ckn_alfredo</td>\n",
       "      <td>M</td>\n",
       "      <td>16.75</td>\n",
       "      <td>The Chicken Alfredo Pizza</td>\n",
       "      <td>Chicken</td>\n",
       "      <td>Chicken, Red Onions, Red Peppers, Mushrooms, A...</td>\n",
       "    </tr>\n",
       "    <tr>\n",
       "      <th>48616</th>\n",
       "      <td>21348</td>\n",
       "      <td>2015-12-31</td>\n",
       "      <td>21:23:10</td>\n",
       "      <td>21</td>\n",
       "      <td>Thursday</td>\n",
       "      <td>December</td>\n",
       "      <td>12</td>\n",
       "      <td>48617</td>\n",
       "      <td>four_cheese_l</td>\n",
       "      <td>1</td>\n",
       "      <td>four_cheese</td>\n",
       "      <td>L</td>\n",
       "      <td>17.95</td>\n",
       "      <td>The Four Cheese Pizza</td>\n",
       "      <td>Veggie</td>\n",
       "      <td>Ricotta Cheese, Gorgonzola Piccante Cheese, Mo...</td>\n",
       "    </tr>\n",
       "    <tr>\n",
       "      <th>48617</th>\n",
       "      <td>21348</td>\n",
       "      <td>2015-12-31</td>\n",
       "      <td>21:23:10</td>\n",
       "      <td>21</td>\n",
       "      <td>Thursday</td>\n",
       "      <td>December</td>\n",
       "      <td>12</td>\n",
       "      <td>48618</td>\n",
       "      <td>napolitana_s</td>\n",
       "      <td>1</td>\n",
       "      <td>napolitana</td>\n",
       "      <td>S</td>\n",
       "      <td>12.00</td>\n",
       "      <td>The Napolitana Pizza</td>\n",
       "      <td>Classic</td>\n",
       "      <td>Tomatoes, Anchovies, Green Olives, Red Onions,...</td>\n",
       "    </tr>\n",
       "    <tr>\n",
       "      <th>48618</th>\n",
       "      <td>21349</td>\n",
       "      <td>2015-12-31</td>\n",
       "      <td>22:09:54</td>\n",
       "      <td>22</td>\n",
       "      <td>Thursday</td>\n",
       "      <td>December</td>\n",
       "      <td>12</td>\n",
       "      <td>48619</td>\n",
       "      <td>mexicana_l</td>\n",
       "      <td>1</td>\n",
       "      <td>mexicana</td>\n",
       "      <td>L</td>\n",
       "      <td>20.25</td>\n",
       "      <td>The Mexicana Pizza</td>\n",
       "      <td>Veggie</td>\n",
       "      <td>Tomatoes, Red Peppers, Jalapeno Peppers, Red O...</td>\n",
       "    </tr>\n",
       "    <tr>\n",
       "      <th>48619</th>\n",
       "      <td>21350</td>\n",
       "      <td>2015-12-31</td>\n",
       "      <td>23:02:05</td>\n",
       "      <td>23</td>\n",
       "      <td>Thursday</td>\n",
       "      <td>December</td>\n",
       "      <td>12</td>\n",
       "      <td>48620</td>\n",
       "      <td>bbq_ckn_s</td>\n",
       "      <td>1</td>\n",
       "      <td>bbq_ckn</td>\n",
       "      <td>S</td>\n",
       "      <td>12.75</td>\n",
       "      <td>The Barbecue Chicken Pizza</td>\n",
       "      <td>Chicken</td>\n",
       "      <td>Barbecued Chicken, Red Peppers, Green Peppers,...</td>\n",
       "    </tr>\n",
       "  </tbody>\n",
       "</table>\n",
       "<p>48620 rows × 16 columns</p>\n",
       "</div>"
      ],
      "text/plain": [
       "       order_id       date      time  hour       day     month  month_num  \\\n",
       "0             1 2015-01-01  11:38:36    11  Thursday   January          1   \n",
       "1             2 2015-01-01  11:57:40    11  Thursday   January          1   \n",
       "2             2 2015-01-01  11:57:40    11  Thursday   January          1   \n",
       "3             2 2015-01-01  11:57:40    11  Thursday   January          1   \n",
       "4             2 2015-01-01  11:57:40    11  Thursday   January          1   \n",
       "...         ...        ...       ...   ...       ...       ...        ...   \n",
       "48615     21348 2015-12-31  21:23:10    21  Thursday  December         12   \n",
       "48616     21348 2015-12-31  21:23:10    21  Thursday  December         12   \n",
       "48617     21348 2015-12-31  21:23:10    21  Thursday  December         12   \n",
       "48618     21349 2015-12-31  22:09:54    22  Thursday  December         12   \n",
       "48619     21350 2015-12-31  23:02:05    23  Thursday  December         12   \n",
       "\n",
       "       order_details_id       pizza_id  quantity pizza_type_id size  price  \\\n",
       "0                     1     hawaiian_m         1      hawaiian    M  13.25   \n",
       "1                     2  classic_dlx_m         1   classic_dlx    M  16.00   \n",
       "2                     3  five_cheese_l         1   five_cheese    L  18.50   \n",
       "3                     4    ital_supr_l         1     ital_supr    L  20.75   \n",
       "4                     5     mexicana_m         1      mexicana    M  16.00   \n",
       "...                 ...            ...       ...           ...  ...    ...   \n",
       "48615             48616  ckn_alfredo_m         1   ckn_alfredo    M  16.75   \n",
       "48616             48617  four_cheese_l         1   four_cheese    L  17.95   \n",
       "48617             48618   napolitana_s         1    napolitana    S  12.00   \n",
       "48618             48619     mexicana_l         1      mexicana    L  20.25   \n",
       "48619             48620      bbq_ckn_s         1       bbq_ckn    S  12.75   \n",
       "\n",
       "                             name category  \\\n",
       "0              The Hawaiian Pizza  Classic   \n",
       "1        The Classic Deluxe Pizza  Classic   \n",
       "2           The Five Cheese Pizza   Veggie   \n",
       "3       The Italian Supreme Pizza  Supreme   \n",
       "4              The Mexicana Pizza   Veggie   \n",
       "...                           ...      ...   \n",
       "48615   The Chicken Alfredo Pizza  Chicken   \n",
       "48616       The Four Cheese Pizza   Veggie   \n",
       "48617        The Napolitana Pizza  Classic   \n",
       "48618          The Mexicana Pizza   Veggie   \n",
       "48619  The Barbecue Chicken Pizza  Chicken   \n",
       "\n",
       "                                             ingredients  \n",
       "0               Sliced Ham, Pineapple, Mozzarella Cheese  \n",
       "1      Pepperoni, Mushrooms, Red Onions, Red Peppers,...  \n",
       "2      Mozzarella Cheese, Provolone Cheese, Smoked Go...  \n",
       "3      Calabrese Salami, Capocollo, Tomatoes, Red Oni...  \n",
       "4      Tomatoes, Red Peppers, Jalapeno Peppers, Red O...  \n",
       "...                                                  ...  \n",
       "48615  Chicken, Red Onions, Red Peppers, Mushrooms, A...  \n",
       "48616  Ricotta Cheese, Gorgonzola Piccante Cheese, Mo...  \n",
       "48617  Tomatoes, Anchovies, Green Olives, Red Onions,...  \n",
       "48618  Tomatoes, Red Peppers, Jalapeno Peppers, Red O...  \n",
       "48619  Barbecued Chicken, Red Peppers, Green Peppers,...  \n",
       "\n",
       "[48620 rows x 16 columns]"
      ]
     },
     "execution_count": 20,
     "metadata": {},
     "output_type": "execute_result"
    }
   ],
   "source": [
    "master_df"
   ]
  },
  {
   "cell_type": "markdown",
   "id": "534ce2e3",
   "metadata": {},
   "source": [
    "# Analysis"
   ]
  },
  {
   "cell_type": "markdown",
   "id": "d3fcbbd0",
   "metadata": {},
   "source": [
    "1.\tWhat is the total revenue/sales?"
   ]
  },
  {
   "cell_type": "code",
   "execution_count": 21,
   "id": "82ac5ced",
   "metadata": {},
   "outputs": [
    {
     "name": "stdout",
     "output_type": "stream",
     "text": [
      "The total revenue is $817860.05\n"
     ]
    }
   ],
   "source": [
    "revenue_per_sale =master_df['quantity']*master_df['price']\n",
    "total_revenue = revenue_per_sale.sum()\n",
    "print(f\"The total revenue is ${total_revenue}\")"
   ]
  },
  {
   "cell_type": "markdown",
   "id": "d47c7061",
   "metadata": {},
   "source": [
    "2.\tFind the total quantity sold"
   ]
  },
  {
   "cell_type": "code",
   "execution_count": 22,
   "id": "4dc79730",
   "metadata": {},
   "outputs": [
    {
     "name": "stdout",
     "output_type": "stream",
     "text": [
      "The total number of pizzas sold is 49574\n"
     ]
    }
   ],
   "source": [
    "total_quantity = master_df['quantity'].sum()\n",
    "print(f\"The total number of pizzas sold is {total_quantity}\")"
   ]
  },
  {
   "cell_type": "markdown",
   "id": "480ec694",
   "metadata": {},
   "source": [
    "3.\tFind the total orders."
   ]
  },
  {
   "cell_type": "code",
   "execution_count": 23,
   "id": "9732eda5",
   "metadata": {},
   "outputs": [
    {
     "name": "stdout",
     "output_type": "stream",
     "text": [
      "There were 21350 orders made in total\n"
     ]
    }
   ],
   "source": [
    "print(f\"There were {master_df['order_id'].nunique()} orders made in total\")"
   ]
  },
  {
   "cell_type": "markdown",
   "id": "f2d8b2d8",
   "metadata": {},
   "source": [
    "4.\tHow many pizza types do they sell?"
   ]
  },
  {
   "cell_type": "code",
   "execution_count": 24,
   "id": "cd67b786",
   "metadata": {},
   "outputs": [
    {
     "data": {
      "text/plain": [
       "32"
      ]
     },
     "execution_count": 24,
     "metadata": {},
     "output_type": "execute_result"
    }
   ],
   "source": [
    "master_df['pizza_type_id'].nunique()"
   ]
  },
  {
   "cell_type": "markdown",
   "id": "b2421195",
   "metadata": {},
   "source": [
    "5.\tFind the average price of the pizzas."
   ]
  },
  {
   "cell_type": "code",
   "execution_count": 25,
   "id": "4def66e9",
   "metadata": {},
   "outputs": [
    {
     "name": "stdout",
     "output_type": "stream",
     "text": [
      "The average price of pizzas is $16.49\n"
     ]
    }
   ],
   "source": [
    "print(f\"The average price of pizzas is ${round(master_df['price'].mean(), 2)}\")"
   ]
  },
  {
   "cell_type": "markdown",
   "id": "a7e17708",
   "metadata": {},
   "source": [
    "6.\tWhat are the peak hours of sales?"
   ]
  },
  {
   "cell_type": "code",
   "execution_count": 26,
   "id": "13c1b881",
   "metadata": {},
   "outputs": [
    {
     "data": {
      "text/plain": [
       "<function matplotlib.pyplot.show(close=None, block=None)>"
      ]
     },
     "execution_count": 26,
     "metadata": {},
     "output_type": "execute_result"
    },
    {
     "data": {
      "image/png": "[encoded data removed]",
      "text/plain": [
       "<Figure size 640x480 with 1 Axes>"
      ]
     },
     "metadata": {},
     "output_type": "display_data"
    }
   ],
   "source": [
    "\n",
    "sales_per_hour = master_df.groupby('hour')['quantity'].sum().reset_index()\n",
    "sales_per_hour\n",
    "plt.figure()\n",
    "plt.bar(sales_per_hour['hour'],sales_per_hour['quantity'])\n",
    "plt.plot(sales_per_hour['hour'],sales_per_hour['quantity'], color ='red')\n",
    "plt.xlabel('Hour of the day')\n",
    "plt.ylabel('Sum of sales')\n",
    "plt.title('Sum of Sales by Hour')\n",
    "plt.show"
   ]
  },
  {
   "cell_type": "markdown",
   "id": "5a04153c",
   "metadata": {},
   "source": [
    "Insights: There are two daily sales peaks. The major peak at 12 noon and the other peak at 18.00hrs"
   ]
  },
  {
   "cell_type": "markdown",
   "id": "63a58b91",
   "metadata": {},
   "source": [
    "7.\tFind the total sales made on each day of the week. Which day of the week is when sales are made the most?"
   ]
  },
  {
   "cell_type": "code",
   "execution_count": 27,
   "id": "dd8323e9",
   "metadata": {},
   "outputs": [
    {
     "data": {
      "text/plain": [
       "<function matplotlib.pyplot.show(close=None, block=None)>"
      ]
     },
     "execution_count": 27,
     "metadata": {},
     "output_type": "execute_result"
    },
    {
     "data": {
      "image/png": "[encoded data removed]",
      "text/plain": [
       "<Figure size 640x480 with 1 Axes>"
      ]
     },
     "metadata": {},
     "output_type": "display_data"
    }
   ],
   "source": [
    "sales_per_weekday = master_df.groupby('day')['quantity'].sum().sort_values().reset_index()\n",
    "plt.axes()\n",
    "plt.bar(sales_per_weekday['day'],sales_per_weekday['quantity'])\n",
    "plt.plot(sales_per_weekday['day'],sales_per_weekday['quantity'], color ='red')\n",
    "plt.xlabel('Day of the week')\n",
    "plt.ylabel('Sum of sales')\n",
    "plt.title('Sum of Sales by Weekday')\n",
    "plt.xticks(rotation=45)\n",
    "plt.show"
   ]
  },
  {
   "cell_type": "markdown",
   "id": "b126fa79",
   "metadata": {},
   "source": [
    "Insight: Sales showed an upward trend peaking on Friday. Customers ordered pizzas least on Sundays."
   ]
  },
  {
   "cell_type": "markdown",
   "id": "577fdee9",
   "metadata": {},
   "source": [
    "8.\tFind the top 5 bestselling pizzas."
   ]
  },
  {
   "cell_type": "code",
   "execution_count": 28,
   "id": "d655b1f8",
   "metadata": {},
   "outputs": [
    {
     "data": {
      "text/html": [
       "<div>\n",
       "<style scoped>\n",
       "    .dataframe tbody tr th:only-of-type {\n",
       "        vertical-align: middle;\n",
       "    }\n",
       "\n",
       "    .dataframe tbody tr th {\n",
       "        vertical-align: top;\n",
       "    }\n",
       "\n",
       "    .dataframe thead th {\n",
       "        text-align: right;\n",
       "    }\n",
       "</style>\n",
       "<table border=\"1\" class=\"dataframe\">\n",
       "  <thead>\n",
       "    <tr style=\"text-align: right;\">\n",
       "      <th></th>\n",
       "      <th>name</th>\n",
       "      <th>quantity</th>\n",
       "    </tr>\n",
       "  </thead>\n",
       "  <tbody>\n",
       "    <tr>\n",
       "      <th>7</th>\n",
       "      <td>The Classic Deluxe Pizza</td>\n",
       "      <td>2453</td>\n",
       "    </tr>\n",
       "    <tr>\n",
       "      <th>0</th>\n",
       "      <td>The Barbecue Chicken Pizza</td>\n",
       "      <td>2432</td>\n",
       "    </tr>\n",
       "    <tr>\n",
       "      <th>12</th>\n",
       "      <td>The Hawaiian Pizza</td>\n",
       "      <td>2422</td>\n",
       "    </tr>\n",
       "    <tr>\n",
       "      <th>20</th>\n",
       "      <td>The Pepperoni Pizza</td>\n",
       "      <td>2418</td>\n",
       "    </tr>\n",
       "    <tr>\n",
       "      <th>30</th>\n",
       "      <td>The Thai Chicken Pizza</td>\n",
       "      <td>2371</td>\n",
       "    </tr>\n",
       "  </tbody>\n",
       "</table>\n",
       "</div>"
      ],
      "text/plain": [
       "                          name  quantity\n",
       "7     The Classic Deluxe Pizza      2453\n",
       "0   The Barbecue Chicken Pizza      2432\n",
       "12          The Hawaiian Pizza      2422\n",
       "20         The Pepperoni Pizza      2418\n",
       "30      The Thai Chicken Pizza      2371"
      ]
     },
     "execution_count": 28,
     "metadata": {},
     "output_type": "execute_result"
    }
   ],
   "source": [
    "pizza_sales= master_df.groupby('name')['quantity'].sum().reset_index().sort_values(by='quantity', ascending=False).head()\n",
    "pizza_sales"
   ]
  },
  {
   "cell_type": "code",
   "execution_count": 29,
   "id": "bc5c546a",
   "metadata": {},
   "outputs": [
    {
     "data": {
      "image/png": "[encoded data removed]",
      "text/plain": [
       "<Figure size 640x480 with 1 Axes>"
      ]
     },
     "metadata": {},
     "output_type": "display_data"
    }
   ],
   "source": [
    "plt.axes()\n",
    "plt.barh(pizza_sales['name'],pizza_sales['quantity'])\n",
    "plt.title('Top 5 bestselling Pizzas')\n",
    "plt.ylabel('Pizza Types')\n",
    "plt.xlabel('Sum of sales')\n",
    "plt.show()"
   ]
  },
  {
   "cell_type": "markdown",
   "id": "49236183",
   "metadata": {},
   "source": [
    "The chart above shows customers most ordered pizzas for the year"
   ]
  },
  {
   "cell_type": "markdown",
   "id": "a439b037",
   "metadata": {},
   "source": [
    "9.\tFind the sales made in each month. Any trend noticeable?"
   ]
  },
  {
   "cell_type": "code",
   "execution_count": 30,
   "id": "6e1a5e1e",
   "metadata": {},
   "outputs": [
    {
     "data": {
      "text/plain": [
       "<function matplotlib.pyplot.show(close=None, block=None)>"
      ]
     },
     "execution_count": 30,
     "metadata": {},
     "output_type": "execute_result"
    },
    {
     "data": {
      "image/png": "[encoded data removed]",
      "text/plain": [
       "<Figure size 640x480 with 1 Axes>"
      ]
     },
     "metadata": {},
     "output_type": "display_data"
    }
   ],
   "source": [
    "sales_per_month = master_df.groupby(['month_num','month'])['quantity'].sum().reset_index().sort_values('month_num')\n",
    "plt.axes()\n",
    "plt.bar(sales_per_month['month'],sales_per_month['quantity'])\n",
    "plt.plot(sales_per_month['month'],sales_per_month['quantity'], color ='red')\n",
    "plt.xlabel('Month of the year')\n",
    "plt.ylabel('Sum of sales')\n",
    "plt.title('Sum of Sales by Month')\n",
    "plt.xticks(rotation=45)\n",
    "plt.show"
   ]
  },
  {
   "cell_type": "markdown",
   "id": "39bf7f07",
   "metadata": {},
   "source": [
    "Insight: Sales were stable throughout the year."
   ]
  },
  {
   "cell_type": "markdown",
   "id": "644f8f94",
   "metadata": {},
   "source": [
    "10.\tAre there pizza types that are not doing well on the menu?"
   ]
  },
  {
   "cell_type": "code",
   "execution_count": 31,
   "id": "4734ebd6",
   "metadata": {},
   "outputs": [
    {
     "data": {
      "text/html": [
       "<div>\n",
       "<style scoped>\n",
       "    .dataframe tbody tr th:only-of-type {\n",
       "        vertical-align: middle;\n",
       "    }\n",
       "\n",
       "    .dataframe tbody tr th {\n",
       "        vertical-align: top;\n",
       "    }\n",
       "\n",
       "    .dataframe thead th {\n",
       "        text-align: right;\n",
       "    }\n",
       "</style>\n",
       "<table border=\"1\" class=\"dataframe\">\n",
       "  <thead>\n",
       "    <tr style=\"text-align: right;\">\n",
       "      <th></th>\n",
       "      <th>name</th>\n",
       "      <th>quantity</th>\n",
       "    </tr>\n",
       "  </thead>\n",
       "  <tbody>\n",
       "    <tr>\n",
       "      <th>2</th>\n",
       "      <td>The Brie Carre Pizza</td>\n",
       "      <td>490</td>\n",
       "    </tr>\n",
       "    <tr>\n",
       "      <th>16</th>\n",
       "      <td>The Mediterranean Pizza</td>\n",
       "      <td>934</td>\n",
       "    </tr>\n",
       "    <tr>\n",
       "      <th>3</th>\n",
       "      <td>The Calabrese Pizza</td>\n",
       "      <td>937</td>\n",
       "    </tr>\n",
       "    <tr>\n",
       "      <th>28</th>\n",
       "      <td>The Spinach Supreme Pizza</td>\n",
       "      <td>950</td>\n",
       "    </tr>\n",
       "    <tr>\n",
       "      <th>24</th>\n",
       "      <td>The Soppressata Pizza</td>\n",
       "      <td>961</td>\n",
       "    </tr>\n",
       "    <tr>\n",
       "      <th>27</th>\n",
       "      <td>The Spinach Pesto Pizza</td>\n",
       "      <td>970</td>\n",
       "    </tr>\n",
       "    <tr>\n",
       "      <th>6</th>\n",
       "      <td>The Chicken Pesto Pizza</td>\n",
       "      <td>973</td>\n",
       "    </tr>\n",
       "    <tr>\n",
       "      <th>15</th>\n",
       "      <td>The Italian Vegetables Pizza</td>\n",
       "      <td>981</td>\n",
       "    </tr>\n",
       "    <tr>\n",
       "      <th>5</th>\n",
       "      <td>The Chicken Alfredo Pizza</td>\n",
       "      <td>987</td>\n",
       "    </tr>\n",
       "    <tr>\n",
       "      <th>11</th>\n",
       "      <td>The Green Garden Pizza</td>\n",
       "      <td>997</td>\n",
       "    </tr>\n",
       "  </tbody>\n",
       "</table>\n",
       "</div>"
      ],
      "text/plain": [
       "                            name  quantity\n",
       "2           The Brie Carre Pizza       490\n",
       "16       The Mediterranean Pizza       934\n",
       "3            The Calabrese Pizza       937\n",
       "28     The Spinach Supreme Pizza       950\n",
       "24         The Soppressata Pizza       961\n",
       "27       The Spinach Pesto Pizza       970\n",
       "6        The Chicken Pesto Pizza       973\n",
       "15  The Italian Vegetables Pizza       981\n",
       "5      The Chicken Alfredo Pizza       987\n",
       "11        The Green Garden Pizza       997"
      ]
     },
     "execution_count": 31,
     "metadata": {},
     "output_type": "execute_result"
    }
   ],
   "source": [
    "all_pizza_sales =  master_df.groupby('name')['quantity'].sum().reset_index().sort_values(by='quantity', ascending=True)\n",
    "poor_pizza_sales = all_pizza_sales[all_pizza_sales['quantity']<1000]\n",
    "poor_pizza_sales"
   ]
  },
  {
   "cell_type": "code",
   "execution_count": 32,
   "id": "7411ff6f",
   "metadata": {},
   "outputs": [
    {
     "data": {
      "image/png": "[encoded data removed]",
      "text/plain": [
       "<Figure size 640x480 with 1 Axes>"
      ]
     },
     "metadata": {},
     "output_type": "display_data"
    }
   ],
   "source": [
    "plt.axes()\n",
    "plt.barh(poor_pizza_sales['name'],poor_pizza_sales['quantity'])\n",
    "plt.title('Poor Performing Pizzas')\n",
    "plt.ylabel('Pizza Types')\n",
    "plt.xlabel('Sum of sales')\n",
    "plt.show()"
   ]
  },
  {
   "cell_type": "markdown",
   "id": "5c98b1ba",
   "metadata": {},
   "source": [
    "Insight:\n",
    "Company policy defines poor sales for any of it's offerings as annual sales below 1000 units. Hence, further investigation is recommended to ascertain causes of low sales for the 10 poorly performing pizzas."
   ]
  }
 ],
 "metadata": {
  "kernelspec": {
   "display_name": "Python 3",
   "language": "python",
   "name": "python3"
  },
  "language_info": {
   "codemirror_mode": {
    "name": "ipython",
    "version": 3
   },
   "file_extension": ".py",
   "mimetype": "text/x-python",
   "name": "python",
   "nbconvert_exporter": "python",
   "pygments_lexer": "ipython3",
   "version": "3.13.2"
  }
 },
 "nbformat": 4,
 "nbformat_minor": 5
}
