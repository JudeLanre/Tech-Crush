{
 "cells": [
  {
   "cell_type": "markdown",
   "id": "317ac0aa",
   "metadata": {},
   "source": [
    "# Exploratory Data Analysis of A Year's Pizza Sales\n",
    "This project analyses a year's worth of sales from anonymised pizza place, including the date and time of each order and the pizzas served, with additional details on the type, size, quantity, price, and ingredients."
   ]
  },
  {
   "cell_type": "code",
   "execution_count": null,
   "id": "78dd3587",
   "metadata": {},
   "outputs": [],
   "source": [
    "# import packages\n",
    "import pandas as pd\n",
    "import matplotlib.pyplot as plt"
   ]
  },
  {
   "cell_type": "code",
   "execution_count": null,
   "id": "a2b48dfd",
   "metadata": {},
   "outputs": [],
   "source": [
    "# create dataframes from csv files\n",
    "\n",
    "orders_df = pd.read_csv(\"orders.csv\")\n",
    "order_details_df = pd.read_csv(\"order_details.csv\")\n",
    "pizza_types_df = pd.read_csv(\"pizza_types.csv\", encoding ='latin1')\n",
    "pizzas_df = pd.read_csv(\"pizzas.csv\")"
   ]
  },
  {
   "cell_type": "markdown",
   "id": "c35815c9",
   "metadata": {},
   "source": [
    "## Ensure data is clean "
   ]
  },
  {
   "cell_type": "markdown",
   "id": "8e11e645",
   "metadata": {},
   "source": [
    "### Check orders_df for na and invalid values"
   ]
  },
  {
   "cell_type": "code",
   "execution_count": null,
   "id": "0a59136c",
   "metadata": {},
   "outputs": [],
   "source": [
    "\n",
    "orders_df.info()"
   ]
  },
  {
   "cell_type": "code",
   "execution_count": null,
   "id": "0c74efe3",
   "metadata": {},
   "outputs": [],
   "source": [
    "orders_df['date'] = pd.to_datetime(orders_df['date'])\n",
    "orders_df['hour'] = pd.to_datetime(orders_df['time']).dt.hour\n",
    "orders_df['day'] = pd.to_datetime(orders_df['date'], format='%Y-%M-%D').dt.day_name()\n",
    "orders_df['month'] = pd.to_datetime(orders_df['date'], format='%Y-%M-%D').dt.month_name()\n",
    "orders_df['month_num'] = pd.to_datetime(orders_df['date'], format='%Y-%M-%D').dt.month"
   ]
  },
  {
   "cell_type": "code",
   "execution_count": null,
   "id": "0048315a",
   "metadata": {},
   "outputs": [],
   "source": [
    "orders_df.head()"
   ]
  },
  {
   "cell_type": "code",
   "execution_count": null,
   "id": "a458948f",
   "metadata": {},
   "outputs": [],
   "source": [
    "orders_df['date'].value_counts()"
   ]
  },
  {
   "cell_type": "code",
   "execution_count": null,
   "id": "d24768a0",
   "metadata": {},
   "outputs": [],
   "source": [
    "orders_df['time'].value_counts()"
   ]
  },
  {
   "cell_type": "markdown",
   "id": "5bc89e33",
   "metadata": {},
   "source": [
    "### Check order_details_df for null and invalid values"
   ]
  },
  {
   "cell_type": "code",
   "execution_count": null,
   "id": "8e6dff51",
   "metadata": {},
   "outputs": [],
   "source": [
    "order_details_df.info()"
   ]
  },
  {
   "cell_type": "code",
   "execution_count": null,
   "id": "aa2ab293",
   "metadata": {},
   "outputs": [],
   "source": [
    "order_details_df['order_details_id'].value_counts()"
   ]
  },
  {
   "cell_type": "code",
   "execution_count": null,
   "id": "fa09d458",
   "metadata": {},
   "outputs": [],
   "source": [
    "order_details_df['order_id'].value_counts()"
   ]
  },
  {
   "cell_type": "code",
   "execution_count": null,
   "id": "a17c7513",
   "metadata": {},
   "outputs": [],
   "source": [
    "order_details_df['pizza_id'].value_counts()"
   ]
  },
  {
   "cell_type": "code",
   "execution_count": null,
   "id": "ba6498ed",
   "metadata": {},
   "outputs": [],
   "source": [
    "order_details_df['quantity'].value_counts()\n"
   ]
  },
  {
   "cell_type": "markdown",
   "id": "4bb303dd",
   "metadata": {},
   "source": [
    "### Check pizza_df for null and invalid data"
   ]
  },
  {
   "cell_type": "code",
   "execution_count": null,
   "id": "cc4a4fd1",
   "metadata": {},
   "outputs": [],
   "source": [
    "\n",
    "pizzas_df.info()"
   ]
  },
  {
   "cell_type": "code",
   "execution_count": null,
   "id": "6a0fb5c7",
   "metadata": {},
   "outputs": [],
   "source": [
    "pizzas_df['pizza_id'].value_counts()"
   ]
  },
  {
   "cell_type": "code",
   "execution_count": null,
   "id": "78f0db3b",
   "metadata": {},
   "outputs": [],
   "source": [
    "pizzas_df['pizza_type_id'].value_counts()\n"
   ]
  },
  {
   "cell_type": "code",
   "execution_count": null,
   "id": "560ec4a2",
   "metadata": {},
   "outputs": [],
   "source": [
    "pizzas_df['size'].value_counts()\n"
   ]
  },
  {
   "cell_type": "code",
   "execution_count": null,
   "id": "cdc549fa",
   "metadata": {},
   "outputs": [],
   "source": [
    "pizzas_df['price'].value_counts()"
   ]
  },
  {
   "cell_type": "markdown",
   "id": "a54cd1b9",
   "metadata": {},
   "source": [
    "### Check pizza_types_df for null and invalid values"
   ]
  },
  {
   "cell_type": "code",
   "execution_count": null,
   "id": "a21f0a64",
   "metadata": {},
   "outputs": [],
   "source": [
    "pizza_types_df.info()"
   ]
  },
  {
   "cell_type": "markdown",
   "id": "8b774227",
   "metadata": {},
   "source": [
    "## Merge dataframes\n"
   ]
  },
  {
   "cell_type": "code",
   "execution_count": null,
   "id": "0f6f3d8d",
   "metadata": {},
   "outputs": [],
   "source": [
    "orders_and_details =pd.merge(orders_df, order_details_df, on ='order_id', how ='left')\n",
    "orders_to_pizza = pd.merge(orders_and_details, pizzas_df, on = 'pizza_id', how ='left')\n",
    "master_df = pd.merge(orders_to_pizza, pizza_types_df, on = 'pizza_type_id', how ='left')"
   ]
  },
  {
   "cell_type": "code",
   "execution_count": null,
   "id": "4a48cdc0",
   "metadata": {},
   "outputs": [],
   "source": [
    "master_df"
   ]
  },
  {
   "cell_type": "markdown",
   "id": "534ce2e3",
   "metadata": {},
   "source": [
    "# Analysis"
   ]
  },
  {
   "cell_type": "markdown",
   "id": "d3fcbbd0",
   "metadata": {},
   "source": [
    "1.\tWhat is the total revenue/sales?"
   ]
  },
  {
   "cell_type": "code",
   "execution_count": null,
   "id": "82ac5ced",
   "metadata": {},
   "outputs": [],
   "source": [
    "revenue_per_sale =master_df['quantity']*master_df['price']\n",
    "total_revenue = revenue_per_sale.sum()\n",
    "print(f\"The total revenue is ${total_revenue}\")"
   ]
  },
  {
   "cell_type": "markdown",
   "id": "d47c7061",
   "metadata": {},
   "source": [
    "2.\tFind the total quantity sold"
   ]
  },
  {
   "cell_type": "code",
   "execution_count": null,
   "id": "4dc79730",
   "metadata": {},
   "outputs": [],
   "source": [
    "total_quantity = master_df['quantity'].sum()\n",
    "print(f\"The total number of pizzas sold is {total_quantity}\")"
   ]
  },
  {
   "cell_type": "markdown",
   "id": "480ec694",
   "metadata": {},
   "source": [
    "3.\tFind the total orders."
   ]
  },
  {
   "cell_type": "code",
   "execution_count": null,
   "id": "9732eda5",
   "metadata": {},
   "outputs": [],
   "source": [
    "print(f\"There were {master_df['order_id'].nunique()} orders made in total\")"
   ]
  },
  {
   "cell_type": "markdown",
   "id": "f2d8b2d8",
   "metadata": {},
   "source": [
    "4.\tHow many pizza types do they sell?"
   ]
  },
  {
   "cell_type": "code",
   "execution_count": null,
   "id": "cd67b786",
   "metadata": {},
   "outputs": [],
   "source": [
    "master_df['pizza_type_id'].nunique()"
   ]
  },
  {
   "cell_type": "markdown",
   "id": "b2421195",
   "metadata": {},
   "source": [
    "5.\tFind the average price of the pizzas."
   ]
  },
  {
   "cell_type": "code",
   "execution_count": null,
   "id": "4def66e9",
   "metadata": {},
   "outputs": [],
   "source": [
    "print(f\"The average price of pizzas is ${round(master_df['price'].mean(), 2)}\")"
   ]
  },
  {
   "cell_type": "markdown",
   "id": "a7e17708",
   "metadata": {},
   "source": [
    "6.\tWhat are the peak hours of sales?"
   ]
  },
  {
   "cell_type": "code",
   "execution_count": null,
   "id": "13c1b881",
   "metadata": {},
   "outputs": [],
   "source": [
    "\n",
    "sales_per_hour = master_df.groupby('hour')['quantity'].sum().reset_index()\n",
    "sales_per_hour\n",
    "plt.figure()\n",
    "plt.bar(sales_per_hour['hour'],sales_per_hour['quantity'])\n",
    "plt.plot(sales_per_hour['hour'],sales_per_hour['quantity'], color ='red')\n",
    "plt.xlabel('Hour of the day')\n",
    "plt.ylabel('Sum of sales')\n",
    "plt.title('Sum of Sales by Hour')\n",
    "plt.show"
   ]
  },
  {
   "cell_type": "markdown",
   "id": "5a04153c",
   "metadata": {},
   "source": [
    "Insights: There are two daily sales peaks. The major peak at 12 noon and the other peak at 18.00hrs"
   ]
  },
  {
   "cell_type": "markdown",
   "id": "63a58b91",
   "metadata": {},
   "source": [
    "7.\tFind the total sales made on each day of the week. Which day of the week is when sales are made the most?"
   ]
  },
  {
   "cell_type": "code",
   "execution_count": null,
   "id": "dd8323e9",
   "metadata": {},
   "outputs": [],
   "source": [
    "sales_per_weekday = master_df.groupby('day')['quantity'].sum().sort_values().reset_index()\n",
    "plt.axes()\n",
    "plt.bar(sales_per_weekday['day'],sales_per_weekday['quantity'])\n",
    "plt.plot(sales_per_weekday['day'],sales_per_weekday['quantity'], color ='red')\n",
    "plt.xlabel('Day of the week')\n",
    "plt.ylabel('Sum of sales')\n",
    "plt.title('Sum of Sales by Weekday')\n",
    "plt.xticks(rotation=45)\n",
    "plt.show"
   ]
  },
  {
   "cell_type": "markdown",
   "id": "b126fa79",
   "metadata": {},
   "source": [
    "Insight: Sales showed an upward trend peaking on Friday. Customers ordered pizzas least on Sundays."
   ]
  },
  {
   "cell_type": "markdown",
   "id": "577fdee9",
   "metadata": {},
   "source": [
    "8.\tFind the top 5 bestselling pizzas."
   ]
  },
  {
   "cell_type": "code",
   "execution_count": null,
   "id": "d655b1f8",
   "metadata": {},
   "outputs": [],
   "source": [
    "pizza_sales= master_df.groupby('name')['quantity'].sum().reset_index().sort_values(by='quantity', ascending=False).head()\n",
    "pizza_sales"
   ]
  },
  {
   "cell_type": "code",
   "execution_count": null,
   "id": "bc5c546a",
   "metadata": {},
   "outputs": [],
   "source": [
    "plt.axes()\n",
    "plt.barh(pizza_sales['name'],pizza_sales['quantity'])\n",
    "plt.title('Top 5 bestselling Pizzas')\n",
    "plt.ylabel('Pizza Types')\n",
    "plt.xlabel('Sum of sales')\n",
    "plt.show()"
   ]
  },
  {
   "cell_type": "markdown",
   "id": "49236183",
   "metadata": {},
   "source": [
    "The chart above shows customers most ordered pizzas for the year"
   ]
  },
  {
   "cell_type": "markdown",
   "id": "a439b037",
   "metadata": {},
   "source": [
    "9.\tFind the sales made in each month. Any trend noticeable?"
   ]
  },
  {
   "cell_type": "code",
   "execution_count": null,
   "id": "6e1a5e1e",
   "metadata": {},
   "outputs": [],
   "source": [
    "sales_per_month = master_df.groupby(['month_num','month'])['quantity'].sum().reset_index().sort_values('month_num')\n",
    "plt.axes()\n",
    "plt.bar(sales_per_month['month'],sales_per_month['quantity'])\n",
    "plt.plot(sales_per_month['month'],sales_per_month['quantity'], color ='red')\n",
    "plt.xlabel('Month of the year')\n",
    "plt.ylabel('Sum of sales')\n",
    "plt.title('Sum of Sales by Month')\n",
    "plt.xticks(rotation=45)\n",
    "plt.show"
   ]
  },
  {
   "cell_type": "markdown",
   "id": "39bf7f07",
   "metadata": {},
   "source": [
    "Insight:"
   ]
  },
  {
   "cell_type": "code",
   "execution_count": null,
   "id": "af08ea55",
   "metadata": {},
   "outputs": [],
   "source": [
    "Sales were stable throughout the year."
   ]
  },
  {
   "cell_type": "markdown",
   "id": "644f8f94",
   "metadata": {},
   "source": [
    "10.\tAre there pizza types that are not doing well on the menu?"
   ]
  },
  {
   "cell_type": "code",
   "execution_count": null,
   "id": "4734ebd6",
   "metadata": {},
   "outputs": [],
   "source": [
    "all_pizza_sales =  master_df.groupby('name')['quantity'].sum().reset_index().sort_values(by='quantity', ascending=True)\n",
    "poor_pizza_sales = all_pizza_sales[all_pizza_sales['quantity']<1000]\n",
    "poor_pizza_sales"
   ]
  },
  {
   "cell_type": "code",
   "execution_count": null,
   "id": "7411ff6f",
   "metadata": {},
   "outputs": [],
   "source": [
    "plt.axes()\n",
    "plt.barh(poor_pizza_sales['name'],poor_pizza_sales['quantity'])\n",
    "plt.title('Poor Performing Pizzas')\n",
    "plt.ylabel('Pizza Types')\n",
    "plt.xlabel('Sum of sales')\n",
    "plt.show()"
   ]
  },
  {
   "cell_type": "markdown",
   "id": "5c98b1ba",
   "metadata": {},
   "source": [
    "Insight:\n",
    "Company policy defines poor sales for any of it's offerings as annual sales below 1000 units. Hence, further investigation is recommended to ascertain causes of low sales for the 10 poorly performing pizzas."
   ]
  }
 ],
 "metadata": {
  "kernelspec": {
   "display_name": "Python 3",
   "language": "python",
   "name": "python3"
  },
  "language_info": {
   "codemirror_mode": {
    "name": "ipython",
    "version": 3
   },
   "file_extension": ".py",
   "mimetype": "text/x-python",
   "name": "python",
   "nbconvert_exporter": "python",
   "pygments_lexer": "ipython3",
   "version": "3.13.2"
  }
 },
 "nbformat": 4,
 "nbformat_minor": 5
}
